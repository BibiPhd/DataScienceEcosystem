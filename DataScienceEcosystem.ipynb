{
 "cells": [
  {
   "cell_type": "markdown",
   "id": "f233eee6",
   "metadata": {},
   "source": [
    "# Data Science Tools and Ecosystem "
   ]
  },
  {
   "cell_type": "markdown",
   "id": "fa4d1a40",
   "metadata": {},
   "source": [
    "### In this notebook, Data Science Tools and Ecosystem are summarized"
   ]
  },
  {
   "cell_type": "markdown",
   "id": "b759a9d3",
   "metadata": {},
   "source": [
    "**Objectives**:\n",
    "* List popular languages for Data science\n",
    "* List popular libraries for Data science \n",
    "* Using Headers correctly\n",
    "* Create tables \n",
    "* Evaluating arithmetic expressions "
   ]
  },
  {
   "cell_type": "markdown",
   "id": "678ab681",
   "metadata": {},
   "source": [
    "## Author\n",
    "Valentina Casadei "
   ]
  },
  {
   "cell_type": "markdown",
   "id": "857cdec6",
   "metadata": {},
   "source": [
    "#### Some of the popular languages that Data Scientists use are:\n",
    "1. Python \n",
    "2. R \n",
    "3. SQL\n",
    "4. Scala\n",
    "5. Julia \n",
    "6. Java \n",
    "7. C++"
   ]
  },
  {
   "cell_type": "markdown",
   "id": "012cb72e",
   "metadata": {},
   "source": [
    "#### Some of the commonly used libraries used by Data Scientists include:\n",
    "1. Pandas \n",
    "2. NumPy\n",
    "3. Matplotlib\n",
    "4. Seaborn \n",
    "5. Scikit-learn\n",
    "6. Keras\n",
    "7. TensorFlow \n",
    "8. Pytorch\n",
    "9. Apache Spark\n",
    "10. Vegas\n",
    "11. big DL\n",
    "12. ggplot2\n"
   ]
  },
  {
   "cell_type": "markdown",
   "id": "30f3b4d3",
   "metadata": {},
   "source": [
    "| Data Science Tool |\n",
    "|---|\n",
    "|RStudio|\n",
    "|Apache Spark|\n",
    "|TensorFlow|"
   ]
  },
  {
   "cell_type": "markdown",
   "id": "9a2b03b0",
   "metadata": {},
   "source": [
    "### Below are a few examples of evaluating arithmetic expressions in Python "
   ]
  },
  {
   "cell_type": "code",
   "execution_count": 1,
   "id": "a4742000",
   "metadata": {},
   "outputs": [
    {
     "data": {
      "text/plain": [
       "17"
      ]
     },
     "execution_count": 1,
     "metadata": {},
     "output_type": "execute_result"
    }
   ],
   "source": [
    "# this is an arithmetic expression to multiply then add integers \n",
    "(3*4)+5"
   ]
  },
  {
   "cell_type": "code",
   "execution_count": 2,
   "id": "50e7ff1b",
   "metadata": {},
   "outputs": [
    {
     "data": {
      "text/plain": [
       "3.3333333333333335"
      ]
     },
     "execution_count": 2,
     "metadata": {},
     "output_type": "execute_result"
    }
   ],
   "source": [
    "# this will convert 200 minutes into hours by dividig it by 60\n",
    "200/60"
   ]
  },
  {
   "cell_type": "markdown",
   "id": "1b997461",
   "metadata": {},
   "source": []
  }
 ],
 "metadata": {
  "kernelspec": {
   "display_name": "Python 3 (ipykernel)",
   "language": "python",
   "name": "python3"
  },
  "language_info": {
   "codemirror_mode": {
    "name": "ipython",
    "version": 3
   },
   "file_extension": ".py",
   "mimetype": "text/x-python",
   "name": "python",
   "nbconvert_exporter": "python",
   "pygments_lexer": "ipython3",
   "version": "3.10.9"
  }
 },
 "nbformat": 4,
 "nbformat_minor": 5
}
